{
 "cells": [
  {
   "cell_type": "code",
   "execution_count": 14,
   "metadata": {},
   "outputs": [
    {
     "name": "stdout",
     "output_type": "stream",
     "text": [
      "[1, 3, 5, 7, 9, 11, 13, 15]\n",
      "[0, 2, 4, 6, 8, 10, 12, 14]\n"
     ]
    }
   ],
   "source": [
    "# myfilter()function\n",
    "numbers = [0,1,2,3,4,5,6,7,8,9,10,11,12,13,14,15]\n",
    "filtered_number = filter(lambda x : x %2 != 0, numbers)\n",
    "print(list(filtered_number))\n",
    "filtered_number = filter(lambda x : x %2 == 0, numbers)\n",
    "print(list(filtered_number))"
   ]
  },
  {
   "cell_type": "code",
   "execution_count": 21,
   "metadata": {},
   "outputs": [
    {
     "name": "stdout",
     "output_type": "stream",
     "text": [
      "the sum of my data elements is :  28\n"
     ]
    }
   ],
   "source": [
    "#my reduce()fuction\n",
    "import functools\n",
    "my_data = [1,2,3,4,5,6,7]\n",
    "print(\"the sum of my data elements is : \", end=\" \")\n",
    "print(functools.reduce(lambda a,b: a+b, my_data))"
   ]
  },
  {
   "cell_type": "code",
   "execution_count": 44,
   "metadata": {},
   "outputs": [
    {
     "name": "stdout",
     "output_type": "stream",
     "text": [
      "['x', 'xx', 'xxx', 'xxxx', 'y', 'yy', 'yyy', 'yyyy', 'z', 'zz', 'zzz', 'zzzz']\n"
     ]
    }
   ],
   "source": [
    "intake =  ['x','y','z']\n",
    "The_output = [item*num for item in intake for num in range(1,5)]\n",
    "print(str(The_output))"
   ]
  },
  {
   "cell_type": "code",
   "execution_count": 24,
   "metadata": {},
   "outputs": [
    {
     "name": "stdout",
     "output_type": "stream",
     "text": [
      "['x', 'y', 'z', 'xx', 'yy', 'zz', 'xxx', 'yyy', 'zzz', 'xxxx', 'yyyy', 'zzzz']\n"
     ]
    }
   ],
   "source": [
    "intake =  ['x','y','z']\n",
    "The_output = [item*num for num in range(1,5) for item in intake]\n",
    "print(str(The_output))"
   ]
  },
  {
   "cell_type": "code",
   "execution_count": 53,
   "metadata": {},
   "outputs": [
    {
     "name": "stdout",
     "output_type": "stream",
     "text": [
      "[[2], [3], [4], [3], [4], [5], [4], [5], [6]][[2, 3, 4, 5], [3, 4, 5, 6]]\n"
     ]
    }
   ],
   "source": [
    "intake =  [2,3,4]\n",
    "The_output = [[item+num] for item in intake for num in range(0,3)]\n",
    "another_intake = [2,3,4,5]\n",
    "The_another_output = [[item+num for item in another_intake] for num in range(0,2)]\n",
    "print(str(The_output)+str(The_another_output))"
   ]
  },
  {
   "cell_type": "code",
   "execution_count": 43,
   "metadata": {},
   "outputs": [
    {
     "name": "stdout",
     "output_type": "stream",
     "text": [
      "[[4, 5, 6, 7], [5, 6, 7, 8]]\n"
     ]
    }
   ],
   "source": [
    "intake =  [4,5,6,7]\n",
    "The_output = [[item+num for item in intake] for num in range(0,2)]\n",
    "print(str(The_output))"
   ]
  },
  {
   "cell_type": "code",
   "execution_count": 34,
   "metadata": {},
   "outputs": [
    {
     "name": "stdout",
     "output_type": "stream",
     "text": [
      "[(1, 1), (2, 1), (3, 1), (1, 2), (2, 2), (3, 2), (1, 3), (2, 3), (3, 3)]\n"
     ]
    }
   ],
   "source": [
    "intake =  [1,2,3]\n",
    "The_output = [ (b,a) for a in intake for b in intake]\n",
    "print(str(The_output))"
   ]
  },
  {
   "cell_type": "code",
   "execution_count": null,
   "metadata": {},
   "outputs": [],
   "source": []
  }
 ],
 "metadata": {
  "kernelspec": {
   "display_name": "Python 3",
   "language": "python",
   "name": "python3"
  },
  "language_info": {
   "codemirror_mode": {
    "name": "ipython",
    "version": 3
   },
   "file_extension": ".py",
   "mimetype": "text/x-python",
   "name": "python",
   "nbconvert_exporter": "python",
   "pygments_lexer": "ipython3",
   "version": "3.7.3"
  }
 },
 "nbformat": 4,
 "nbformat_minor": 2
}
